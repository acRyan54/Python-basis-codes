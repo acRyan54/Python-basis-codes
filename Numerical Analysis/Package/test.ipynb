{
 "cells": [
  {
   "cell_type": "code",
   "execution_count": 14,
   "metadata": {},
   "outputs": [
    {
     "name": "stdout",
     "output_type": "stream",
     "text": [
      "ConditionSet(x, Eq(x*exp(2*x) - 2, 0), Complexes)\n",
      "[{x: LambertW(1)}]\n"
     ]
    },
    {
     "data": {
      "text/latex": [
       "$\\displaystyle \\frac{\\log{\\left(10 \\right)}}{\\log{\\left(2 \\right)}}$"
      ],
      "text/plain": [
       "log(10)/log(2)"
      ]
     },
     "execution_count": 14,
     "metadata": {},
     "output_type": "execute_result"
    }
   ],
   "source": [
    "from sympy import *\n",
    "x = symbols('x')\n",
    "print(solveset(x*exp(2*x) - 2, x))\n",
    "print(solve(x*exp(x) - 1, x, dict=True))\n",
    "log(10)/log(2)"
   ]
  },
  {
   "cell_type": "code",
   "execution_count": 31,
   "metadata": {},
   "outputs": [
    {
     "data": {
      "text/latex": [
       "$\\displaystyle \\lambda^{4} - 11 \\lambda^{3} + 29 \\lambda^{2} + 35 \\lambda - 150$"
      ],
      "text/plain": [
       "lambda**4 - 11*lambda**3 + 29*lambda**2 + 35*lambda - 150"
      ]
     },
     "execution_count": 31,
     "metadata": {},
     "output_type": "execute_result"
    }
   ],
   "source": [
    "x = symbols('x')\n",
    "M = Matrix([[3, -2,  4, -2], [5,  3, -3, -2], [5, -2,  2, -2], [5, -2, -3,  3]])\n",
    "p = M.charpoly()\n",
    "p.as_expr()"
   ]
  }
 ],
 "metadata": {
  "interpreter": {
   "hash": "83dcda9c6f21f72eb91322f25bd90dcfc44fcd27b2ed6d45c45385eb1dc16ae7"
  },
  "kernelspec": {
   "display_name": "Python 3.10.2 64-bit",
   "language": "python",
   "name": "python3"
  },
  "language_info": {
   "codemirror_mode": {
    "name": "ipython",
    "version": 3
   },
   "file_extension": ".py",
   "mimetype": "text/x-python",
   "name": "python",
   "nbconvert_exporter": "python",
   "pygments_lexer": "ipython3",
   "version": "3.10.2"
  },
  "orig_nbformat": 4
 },
 "nbformat": 4,
 "nbformat_minor": 2
}
